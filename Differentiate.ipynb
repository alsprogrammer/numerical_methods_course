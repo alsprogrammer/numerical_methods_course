{
 "cells": [
  {
   "cell_type": "markdown",
   "metadata": {},
   "source": [
    "# Численное дифференцирование\n",
    "\n",
    "Физический смысл производной - скорость изменения величины. Производная от перемещения - скорость. Производная от скорости - ускорение.\n",
    "\n",
    "Когда величина задана в виде зависимости, то есть в виде формулы - найти ее производную обычно не составляет труда, для этого используются [правила дифференцирования](http://www.math24.ru/%D0%BF%D1%80%D0%BE%D1%81%D1%82%D0%B5%D0%B9%D1%88%D0%B8%D0%B5-%D0%BF%D1%80%D0%B0%D0%B2%D0%B8%D0%BB%D0%B0-%D0%B4%D0%B8%D1%84%D1%84%D0%B5%D1%80%D0%B5%D0%BD%D1%86%D0%B8%D1%80%D0%BE%D0%B2%D0%B0%D0%BD%D0%B8%D1%8F.html).\n",
    "\n",
    "Например, зная, по какой формула вычисляется пройденное каким-либо объектом расстояние в любой момент времени, несложно найти так же и скорость этого объекта в любой момент времени.\n",
    "\n",
    "Ситуация осложняется, когда зависимость перемещения от времени не выражена формулой, а дана в виде таблицы, в которой указаны значения расстояния, пройденого объектом, и моменты времени, в которые это расстояние достигнуто.\n",
    "\n",
    "В данном слчае необходимо использовать численные методы, а именно, численное дифференцирование. Собственно, одинаковый подход используется при численном дифференцировании любой величины, значения которой известны с течением времени, или, еше точнее, в том случае, если известна зависимость одной величины от другой в табличном виде. "
   ]
  },
  {
   "cell_type": "markdown",
   "metadata": {},
   "source": [
    "## Математическая основа численного дифференцирования\n",
    "\n",
    "Все методы численного дифференцирования основаны на определении производной величины. Напомним, производной величины $y$ по величине $x$ в точке $x_i$ называется величина\n",
    "\n",
    "$$\n",
    "y'_x = \\lim_{(x_{i+1} - x_i) \\to 0} \\frac {y_{i+1} - y_i} {x_{i+1} - x_i}\n",
    "$$\n",
    "\n",
    "Собственно, численное дифференцирование основано на том, что при достаточно малой величине $x_{i+1} - x_i$ значение предела будет достаточно близким к значению дроби, то есть\n",
    "\n",
    "$$\n",
    "y'_x \\approx \\frac {y_{i+1} - y_i} {x_{i+1} - x_i}\n",
    "$$\n",
    "\n",
    "Очевидно, что считать производную в точке $x_i$ можно по-разному:\n",
    "\n",
    "$$\n",
    "y'_x \\approx \\frac {y_{i+1} - y_i} {x_{i+1} - x_i}\n",
    "$$\n",
    "\n",
    "и\n",
    "\n",
    "$$\n",
    "y'_x \\approx \\frac {y_{i} - y_{i-1}} {x_{i} - x_{i-1}}\n",
    "$$\n",
    "\n",
    "Формулы называтся формулами правой и левой разности соответственно."
   ]
  },
  {
   "cell_type": "markdown",
   "metadata": {},
   "source": [
    "Рассмотрим графическую иллюстрацию. Построим график функции и рассмотрим приближенное вычисление производной."
   ]
  },
  {
   "cell_type": "code",
   "execution_count": 27,
   "metadata": {},
   "outputs": [
    {
     "data": {
      "image/png": "[encoded data removed]",
      "text/plain": [
       "<Figure size 432x288 with 1 Axes>"
      ]
     },
     "metadata": {
      "needs_background": "light"
     },
     "output_type": "display_data"
    },
    {
     "name": "stdout",
     "output_type": "stream",
     "text": [
      "x0=0.2040816326530612,x1=0.6122448979591836,x2=1.0204081632653061\n",
      "y0=0.4517539514526256,y1=0.7824607964359516,y2=1.0101525445522108\n"
     ]
    }
   ],
   "source": [
    "import numpy as np\n",
    "import matplotlib.pyplot as plt\n",
    "import math\n",
    "%matplotlib inline\n",
    "\n",
    "def square(x):\n",
    "    return math.pow(x, 0.5)\n",
    "\n",
    "xs = np.linspace(0, 2)\n",
    "ys = [square(x) for x in xs]\n",
    "\n",
    "fig = plt.figure()\n",
    "plt.plot(xs, ys)\n",
    "plt.axvline(x=xs[5], color='green')\n",
    "plt.axvline(x=xs[15], color='green')\n",
    "plt.axvline(x=xs[25], color='green')\n",
    "\n",
    "plt.axhline(y=ys[5], color='red')\n",
    "plt.axhline(y=ys[15], color='red')\n",
    "plt.axhline(y=ys[25], color='red')\n",
    "\n",
    "plt.show()\n",
    "print('x0={},x1={},x2={}'.format(xs[5], xs[15], xs[25]))\n",
    "print('y0={},y1={},y2={}'.format(ys[5], ys[15], ys[25]))"
   ]
  },
  {
   "cell_type": "markdown",
   "metadata": {},
   "source": [
    "Как можно видеть, мы рассматриваем точки $x_{i-1}=0.2$, $x_i=0.4$ и $x_{i+1}=0.6$, в которых значение функции соответственно равно $y_{i-1}=0.45$, $y_i=0.78$ и $y_{i+1}=1.01$.\n",
    "Очевидно, что при одинаковом расстоянии между точками по $x$, равному 0.2, расстояние между точками по $y$ составляет 0.33 и 0.23.\n",
    "\n",
    "Таким образом, если считать производную по формуле левой разницы\n",
    "\n",
    "$$\n",
    "y'_x \\approx \\frac {y_{i} - y_{i-1}} {x_{i} - x_{i-1}}\n",
    "$$\n",
    "\n",
    "то получаем значение производной, равное"
   ]
  },
  {
   "cell_type": "code",
   "execution_count": 28,
   "metadata": {},
   "outputs": [
    {
     "data": {
      "text/plain": [
       "0.8102317702091488"
      ]
     },
     "execution_count": 28,
     "metadata": {},
     "output_type": "execute_result"
    }
   ],
   "source": [
    "(ys[15] - ys[5]) / (xs[15] - xs[5])"
   ]
  },
  {
   "cell_type": "markdown",
   "metadata": {},
   "source": [
    "а если по формуле правой разности\n",
    "\n",
    "$$\n",
    "y'_x \\approx \\frac {y_{i+1} - y_i} {x_{i+1} - x_i}\n",
    "$$"
   ]
  },
  {
   "cell_type": "markdown",
   "metadata": {},
   "source": [
    "то значение производной будет"
   ]
  },
  {
   "cell_type": "code",
   "execution_count": 25,
   "metadata": {},
   "outputs": [
    {
     "data": {
      "text/plain": [
       "0.557844782884835"
      ]
     },
     "execution_count": 25,
     "metadata": {},
     "output_type": "execute_result"
    }
   ],
   "source": [
    "(ys[25] - ys[15]) / (xs[25] - xs[15])"
   ]
  },
  {
   "cell_type": "markdown",
   "metadata": {},
   "source": [
    "Очевидно, что разница достаточно велика, хотя мы считаем значение производной в одной и той же точке.\n",
    "\n",
    "Можно предположить, что реальное значение производной будет чем-то средним между этими двумя значениями. \n",
    "Существует формула, называемая формулой центральной разности, которая фактически берет среднее от этих двух значений\n",
    "\n",
    "$$\n",
    "y'_x \\approx \\frac {\\frac {y_{i+1} - y_i} {x_{i+1} - x_i} + \\frac {y_{i} - y_{i-1}} {x_{i} - x_{i-1}}} {2}\n",
    "$$"
   ]
  },
  {
   "cell_type": "code",
   "execution_count": null,
   "metadata": {},
   "outputs": [],
   "source": []
  }
 ],
 "metadata": {
  "kernelspec": {
   "display_name": "Python 3",
   "language": "python",
   "name": "python3"
  },
  "language_info": {
   "codemirror_mode": {
    "name": "ipython",
    "version": 3
   },
   "file_extension": ".py",
   "mimetype": "text/x-python",
   "name": "python",
   "nbconvert_exporter": "python",
   "pygments_lexer": "ipython3",
   "version": "3.7.6"
  }
 },
 "nbformat": 4,
 "nbformat_minor": 4
}
