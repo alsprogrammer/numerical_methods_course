{
 "cells": [
  {
   "cell_type": "markdown",
   "metadata": {},
   "source": [
    "# Интерполяция в NumPy\n",
    "\n",
    "Простейшим подходом математического моделирования является интерполяция.\n",
    "\n",
    "Использование интерполяции предполагает, что нам известны экспериментальные данные, заданные в виде \n",
    "пар значений $(x,y)$, то есть имеется множество пар $A=\\{(x_0,y_0), (x_1,y_1),… (x_n,y_n)\\}$. Задача \n",
    "интерполяции состоит в нахождении значений $y$ для тех значений $x$, которые отсутствуют в данном множестве, \n",
    "но при этом выполняется условие $x_0 < x <x_n$.\n",
    "\n",
    "Решение этой задачи состоит в отыскании такой функции, график которой проходит через указанные в множестве A \n",
    "точки. При этом неявно предполагается, что и в промежуточных точках значения интерполирующей и интерполируемой \n",
    "функций совпадают, что, конечно, не всегда выполняется.\n",
    "\n",
    "Обычно для инрполяции используются следующие подходы:\n",
    "\n",
    "* интерполяция полиномом (степенным многочленом), или интерполяция Ньютона\n",
    "* интерполяция сплайнами\n",
    "* аппроксимация функцией"
   ]
  },
  {
   "cell_type": "markdown",
   "metadata": {},
   "source": [
    "Для использования методов интерполяции нам будет необходим пакет под названием [NumPy](https://numpy.org/).\n",
    "\n",
    "Импортируем его для дальнейшего использования:"
   ]
  },
  {
   "cell_type": "code",
   "execution_count": 2,
   "metadata": {},
   "outputs": [],
   "source": [
    "import numpy as np"
   ]
  },
  {
   "cell_type": "markdown",
   "metadata": {},
   "source": [
    "Зададим значения $x$ и соответствующие им значения $y$."
   ]
  },
  {
   "cell_type": "code",
   "execution_count": 3,
   "metadata": {},
   "outputs": [],
   "source": [
    "x = np.array([1, 2, 3, 4])\n",
    "y = np.array([1, 4, 9, 16])"
   ]
  },
  {
   "cell_type": "markdown",
   "metadata": {},
   "source": [
    "Как можно видеть, мы пытаемся интерполировать квадратичную функцию:\n",
    "\n",
    "$$\n",
    "f(1)=1\\\\\n",
    "f(2)=2\\\\\n",
    "f(3)=9\\\\\n",
    "f(4)=16\n",
    "$$\n",
    "\n",
    "Используя подготовленные данные, выполним интерполяцию различными методами."
   ]
  },
  {
   "cell_type": "markdown",
   "metadata": {},
   "source": [
    "## Интерполяция полиномом\n",
    "\n",
    "Рассмотрим простейшую модель в виде степенного многочлена:\n",
    "\n",
    "$$\n",
    "y = a_n x^n + a_{n-1} x^{n-1} + \\ldots + a_0\n",
    "$$\n",
    "\n",
    "Заменим неизвестную нам функцию, значения которой нам даны в виде таблицы, на этот степенной многочлен.\n",
    "\n",
    "Для того, чтобы найти неизвестные коэффициенты $a_0, a_1, \\ldots , a_n$, построим следующую систему уравнений:\n",
    "\n",
    "$$\n",
    "a_n x_0^n + a_{n-1} x_0^{n-1} + \\ldots + a_0 = y_0\\\\\n",
    "a_n x_1^n + a_{n-1} x_1^{n-1} + \\ldots + a_0 = y_1\\\\\n",
    "\\ldots \\\\\n",
    "a_n x_n^n + a_{n-1} x_n^{n-1} + \\ldots + a_0 = y_n\n",
    "$$\n",
    "\n",
    "Здесь $y_i$ - известные значения выходной величины, $x_i$ - известные значения входной величины, \n",
    "$a_i$ - неизвестные коэффициенты многочлена.\n",
    "\n",
    "Очевидно, что данная система линейных алгебраических уравнений может быть представлена в матричном виде,  $A\\cdot X=Y$, где $A$ - неизвестная матрица коэффициентов многочлена, $X$ - вектор известных значений входной величины, \n",
    "$Y$ - вектор известных значений выходной величины.\n",
    "\n",
    "Рассмотрим пример решения задачи такого типа."
   ]
  },
  {
   "cell_type": "markdown",
   "metadata": {},
   "source": [
    "### Создание матрицы\n",
    "\n",
    "Построим матрицу x, где каждая строка будет соответствовать одной точке нашего графика (то есть значениям $x_0=1$, $x_1=2$, $x_2=3$ и $x_3=4$), а каждый столбец - различным степеням x:\n",
    "\n",
    "$$\n",
    "\\begin{array}{cccc}\n",
    "x_0^n & x_0^{n-1} & \\ldots & 1\\\\\n",
    "x_1^n & x_1^{n-1} & \\ldots & 1\\\\\n",
    "\\ldots\\\\\n",
    "x_n^n & x_n^{n-1} & \\ldots & 1\n",
    "\\end{array}\n",
    "$$\n",
    "\n",
    "Для этого можно использовать так называемый механизм *list comprehension* (прочтитать, как он используется, можно [здесь](https://devman.org/qna/5/chto-takoe-list-comprehension-zachem-ono-kakie-esche-byvajut/) и [здесь](https://habr.com/ru/post/30232/)) и [функцию *enumerate*](https://younglinux.info/python/feature/enumerate), а так же функцтю [*len*](https://tproger.ru/translations/python-built-ins-worth-learning/), вычисляющую длину списка.\n",
    "\n",
    "Для начала создадим список из значений *x* и степеней, в которые их нужно возвести:"
   ]
  },
  {
   "cell_type": "code",
   "execution_count": 4,
   "metadata": {},
   "outputs": [
    {
     "data": {
      "text/plain": [
       "[(1, 3), (1, 2), (1, 1), (1, 0)]"
      ]
     },
     "execution_count": 4,
     "metadata": {},
     "output_type": "execute_result"
    }
   ],
   "source": [
    "m0 = [(x[0], len(x) - i - 1) for i in range(len(x))]\n",
    "m0"
   ]
  },
  {
   "cell_type": "markdown",
   "metadata": {},
   "source": [
    "Затем построим аналогичный вектор, состоящий не из пар чисел, а из степеней чисел (функция *pow* из модуля *math*):"
   ]
  },
  {
   "cell_type": "code",
   "execution_count": 5,
   "metadata": {},
   "outputs": [
    {
     "data": {
      "text/plain": [
       "[1.0, 1.0, 1.0, 1.0]"
      ]
     },
     "execution_count": 5,
     "metadata": {},
     "output_type": "execute_result"
    }
   ],
   "source": [
    "from math import pow\n",
    "m0 = [pow(x[0], len(x) - i - 1) for i in range(len(x))]\n",
    "m0"
   ]
  },
  {
   "cell_type": "markdown",
   "metadata": {},
   "source": [
    "Повторите эксперимент для других значений *x* в следующей ячейке."
   ]
  },
  {
   "cell_type": "code",
   "execution_count": 6,
   "metadata": {},
   "outputs": [
    {
     "data": {
      "text/plain": [
       "[1.0, 1.0, 1.0, 1.0]"
      ]
     },
     "execution_count": 6,
     "metadata": {},
     "output_type": "execute_result"
    }
   ],
   "source": [
    "from math import pow\n",
    "m0 = [pow(x[0], len(x) - i - 1) for i in range(len(x))]\n",
    "m0"
   ]
  },
  {
   "cell_type": "markdown",
   "metadata": {},
   "source": [
    "Поскольку наша матрица степеней будет квадратной, давайте создадим заготовку для нее, составив список из значений x:"
   ]
  },
  {
   "cell_type": "code",
   "execution_count": 7,
   "metadata": {},
   "outputs": [
    {
     "data": {
      "text/plain": [
       "[1, 2, 3, 4]"
      ]
     },
     "execution_count": 7,
     "metadata": {},
     "output_type": "execute_result"
    }
   ],
   "source": [
    "M = []\n",
    "for xi in x:\n",
    "    M.append(xi)\n",
    "M"
   ]
  },
  {
   "cell_type": "markdown",
   "metadata": {},
   "source": [
    "Получили список, состоящий из значений вектора *x*.\n",
    "\n",
    "Теперь в следующей ячейке вместо значений *x* добавим вектора степеней *x*, как мы делали ранее."
   ]
  },
  {
   "cell_type": "code",
   "execution_count": 13,
   "metadata": {},
   "outputs": [
    {
     "data": {
      "text/plain": [
       "[[1.0, 1.0, 1.0, 1.0],\n",
       " [8.0, 4.0, 2.0, 1.0],\n",
       " [27.0, 9.0, 3.0, 1.0],\n",
       " [64.0, 16.0, 4.0, 1.0]]"
      ]
     },
     "execution_count": 13,
     "metadata": {},
     "output_type": "execute_result"
    }
   ],
   "source": [
    "M = []\n",
    "for xi in x:\n",
    "    M.append([pow(x[0], len(x) - i - 1) for i in range(len(x))])\n",
    "M"
   ]
  },
  {
   "cell_type": "markdown",
   "metadata": {},
   "source": [
    "Как можно видеть, матрица заполнена единицами. Так происходит из-за того, что каждый раз в нужную степень возводится $x_0$. Исправьте код в ячейке выше так, чтобы формировалась правильная матрица."
   ]
  },
  {
   "cell_type": "markdown",
   "metadata": {},
   "source": [
    "Теперь необходимо преобразовать полученный результат в матрицу NumPy."
   ]
  },
  {
   "cell_type": "code",
   "execution_count": 14,
   "metadata": {},
   "outputs": [
    {
     "data": {
      "text/plain": [
       "array([[ 1.,  1.,  1.,  1.],\n",
       "       [ 8.,  4.,  2.,  1.],\n",
       "       [27.,  9.,  3.,  1.],\n",
       "       [64., 16.,  4.,  1.]])"
      ]
     },
     "execution_count": 14,
     "metadata": {},
     "output_type": "execute_result"
    }
   ],
   "source": [
    "M = np.array(M)\n",
    "M"
   ]
  },
  {
   "cell_type": "markdown",
   "metadata": {},
   "source": [
    "Найдем неизвестные коэффициенты матрицы $A$:"
   ]
  },
  {
   "cell_type": "code",
   "execution_count": 15,
   "metadata": {},
   "outputs": [
    {
     "data": {
      "text/plain": [
       "array([-6.66133815e-16,  1.00000000e+00, -7.10542736e-15,  3.55271368e-15])"
      ]
     },
     "execution_count": 15,
     "metadata": {},
     "output_type": "execute_result"
    }
   ],
   "source": [
    "A = np.dot(np.linalg.inv(M), y)\n",
    "A"
   ]
  },
  {
   "cell_type": "markdown",
   "metadata": {},
   "source": [
    "А затем проверим правильность решения системы:"
   ]
  },
  {
   "cell_type": "code",
   "execution_count": 16,
   "metadata": {},
   "outputs": [
    {
     "data": {
      "text/plain": [
       "array([ 1.,  4.,  9., 16.])"
      ]
     },
     "execution_count": 16,
     "metadata": {},
     "output_type": "execute_result"
    }
   ],
   "source": [
    "y_new = np.dot(M, A)\n",
    "y_new"
   ]
  },
  {
   "cell_type": "markdown",
   "metadata": {},
   "source": [
    "Создадим новую функцию, вычисляющую значение полинома по заданной матрице $A$ и значению $x$, и поместим ее в новую ячейку блокнота:"
   ]
  },
  {
   "cell_type": "code",
   "execution_count": 17,
   "metadata": {},
   "outputs": [],
   "source": [
    "import math\n",
    "\n",
    "def poly(a, x):\n",
    "    return sum((math.pow(x,i) * ai for i, ai in enumerate(reversed(a))))"
   ]
  },
  {
   "cell_type": "markdown",
   "metadata": {},
   "source": [
    "Используя функцию, вычислим значение полинома в точках 1 и 2:"
   ]
  },
  {
   "cell_type": "code",
   "execution_count": 18,
   "metadata": {},
   "outputs": [
    {
     "data": {
      "text/plain": [
       "0.9999999999999993"
      ]
     },
     "execution_count": 18,
     "metadata": {},
     "output_type": "execute_result"
    }
   ],
   "source": [
    "poly(A, 1)"
   ]
  },
  {
   "cell_type": "markdown",
   "metadata": {},
   "source": [
    "и 2"
   ]
  },
  {
   "cell_type": "code",
   "execution_count": 19,
   "metadata": {},
   "outputs": [
    {
     "data": {
      "text/plain": [
       "3.9999999999999982"
      ]
     },
     "execution_count": 19,
     "metadata": {},
     "output_type": "execute_result"
    }
   ],
   "source": [
    "poly(A, 2)"
   ]
  },
  {
   "cell_type": "markdown",
   "metadata": {},
   "source": [
    "Как можно видеть, результат расчетов правильный.\n",
    "\n",
    "Теперь давайте построим график."
   ]
  },
  {
   "cell_type": "code",
   "execution_count": 20,
   "metadata": {},
   "outputs": [
    {
     "data": {
      "text/plain": [
       "[<matplotlib.lines.Line2D at 0x7f321e216110>,\n",
       " <matplotlib.lines.Line2D at 0x7f321e2163d0>]"
      ]
     },
     "execution_count": 20,
     "metadata": {},
     "output_type": "execute_result"
    },
    {
     "data": {
      "image/png": "[encoded data removed]",
      "text/plain": [
       "<Figure size 432x288 with 1 Axes>"
      ]
     },
     "metadata": {
      "needs_background": "light"
     },
     "output_type": "display_data"
    }
   ],
   "source": [
    "%matplotlib inline\n",
    "import matplotlib.pyplot as plt\n",
    "\n",
    "xnew = np.linspace(1, 4, num=41, endpoint=True)\n",
    "\n",
    "y_poly = [poly(A, cur_x) for cur_x in xnew]\n",
    "\n",
    "fig = plt.figure()\n",
    "plt.plot(x, y, 'o', xnew, y_poly,'-')"
   ]
  },
  {
   "cell_type": "markdown",
   "metadata": {},
   "source": [
    "В данной ячейке рабочей тетради мы подключаем возможность использования графических средств (команда *%matplotlib notebook*) , подключаем функции построения графиков (команда *import matplotlib.pyplot as plt*).\n",
    "\n",
    "Далее мы строим набор значений *x* для получения гладкого графика (команда *xnew = np.linspace(1, 4, num=41, endpoint=True)*). Переменная *xnew* принимает значения от 1 до 4, общее количество значений 41.\n",
    "\n",
    "Следующей командой мы получаем массив значений *y_poly*, вычисленных нашей функцией *poly* для соответствующих значений *xnew*.\n",
    "\n",
    "Команда *plt.plot(x, y, 'o', xnew, y_poly,'-')* строит соответствующий график, причем данные (x, y,) выводятся точками (`o`), а значения интерполяции полинома (xnew, y_poly) – сплошной линией (`-`)."
   ]
  },
  {
   "cell_type": "markdown",
   "metadata": {},
   "source": [
    "## Интерполяция сплайнами\n",
    "\n",
    "Выполним интерполяцию сплайном:"
   ]
  },
  {
   "cell_type": "code",
   "execution_count": 21,
   "metadata": {},
   "outputs": [
    {
     "ename": "ModuleNotFoundError",
     "evalue": "No module named 'scipy'",
     "output_type": "error",
     "traceback": [
      "\u001b[0;31m---------------------------------------------------------------------------\u001b[0m",
      "\u001b[0;31mModuleNotFoundError\u001b[0m                       Traceback (most recent call last)",
      "\u001b[0;32m<ipython-input-21-a20df4834270>\u001b[0m in \u001b[0;36m<module>\u001b[0;34m\u001b[0m\n\u001b[0;32m----> 1\u001b[0;31m \u001b[0;32mfrom\u001b[0m \u001b[0mscipy\u001b[0m\u001b[0;34m.\u001b[0m\u001b[0minterpolate\u001b[0m \u001b[0;32mimport\u001b[0m \u001b[0minterp1d\u001b[0m\u001b[0;34m\u001b[0m\u001b[0;34m\u001b[0m\u001b[0m\n\u001b[0m\u001b[1;32m      2\u001b[0m \u001b[0;34m\u001b[0m\u001b[0m\n\u001b[1;32m      3\u001b[0m \u001b[0mspl_interp\u001b[0m \u001b[0;34m=\u001b[0m \u001b[0minterp1d\u001b[0m\u001b[0;34m(\u001b[0m\u001b[0mx\u001b[0m\u001b[0;34m,\u001b[0m \u001b[0my\u001b[0m\u001b[0;34m,\u001b[0m \u001b[0mkind\u001b[0m\u001b[0;34m=\u001b[0m\u001b[0;34m'cubic'\u001b[0m\u001b[0;34m)\u001b[0m\u001b[0;34m\u001b[0m\u001b[0;34m\u001b[0m\u001b[0m\n",
      "\u001b[0;31mModuleNotFoundError\u001b[0m: No module named 'scipy'"
     ]
    }
   ],
   "source": [
    "from scipy.interpolate import interp1d\n",
    "\n",
    "spl_interp = interp1d(x, y, kind='cubic')"
   ]
  },
  {
   "cell_type": "markdown",
   "metadata": {},
   "source": [
    "Здесь мы импортируем функцию *interp1d* из пакета *scipy.interpolate*. Эта функция формирует новую функцию под названием *spl_interp*, которая так же принимает один аргумент – значение времени *x*.\n",
    "\n",
    "Теперь *spl_interp* - это новая функция, вычисляющая значение сплайна в заданной точке.\n",
    "\n",
    "Проверим значение в точке $x=2$ (мы должны получить значение 4):"
   ]
  },
  {
   "cell_type": "code",
   "execution_count": null,
   "metadata": {},
   "outputs": [],
   "source": [
    "spl_interp(2)"
   ]
  },
  {
   "cell_type": "markdown",
   "metadata": {},
   "source": [
    "Построим набор новых значений точках, заданных вектором *xnew*:"
   ]
  },
  {
   "cell_type": "code",
   "execution_count": null,
   "metadata": {},
   "outputs": [],
   "source": [
    "y_spl = [spl_interp(cur_x) for cur_x in xnew]"
   ]
  },
  {
   "cell_type": "markdown",
   "metadata": {},
   "source": [
    "И построим диаграмму, в которой совместим все графики:"
   ]
  },
  {
   "cell_type": "code",
   "execution_count": null,
   "metadata": {},
   "outputs": [],
   "source": [
    "fig = plt.figure()\n",
    "plt.plot(x, y, 'o', xnew, y_poly,'-', xnew, y_spl, '--')"
   ]
  },
  {
   "cell_type": "markdown",
   "metadata": {},
   "source": [
    "Значения, полученные интерполяцией сплайном, выводятся пунктирной линией ('--').\n",
    "\n",
    "Как можно видеть, в данном случае все линии совпадают."
   ]
  },
  {
   "cell_type": "code",
   "execution_count": null,
   "metadata": {},
   "outputs": [],
   "source": []
  }
 ],
 "metadata": {
  "kernelspec": {
   "display_name": "Python 3",
   "language": "python",
   "name": "python3"
  },
  "language_info": {
   "codemirror_mode": {
    "name": "ipython",
    "version": 3
   },
   "file_extension": ".py",
   "mimetype": "text/x-python",
   "name": "python",
   "nbconvert_exporter": "python",
   "pygments_lexer": "ipython3",
   "version": "3.7.6"
  }
 },
 "nbformat": 4,
 "nbformat_minor": 4
}
