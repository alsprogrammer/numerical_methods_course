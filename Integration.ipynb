{
  "nbformat": 4,
  "nbformat_minor": 0,
  "metadata": {
    "colab": {
      "name": "Integration.ipynb",
      "provenance": [],
      "collapsed_sections": []
    },
    "kernelspec": {
      "name": "python3",
      "display_name": "Python 3"
    }
  },
  "cells": [
    {
      "cell_type": "markdown",
      "metadata": {
        "id": "SyzCQabTdgDu",
        "colab_type": "text"
      },
      "source": [
        "# Численное интегрирование\n",
        "\n",
        "Физический смысл численного интегрирования состоит в нахождении первообразной функции на заданном интервале.\n",
        "\n",
        "Например, зная, как меняется скорость некоторой величины на определенном интервале, можно определить значение этой величины на данном интевале.\n",
        "\n",
        "На бытовом уровне, зная скорость автомобиля в течение некоторого времени, мы можем определить пройденное автомобилем расстояние, зная скорость заражения новым вирусом, мы можем определить число заболевших за указанный период, и так далее.\n",
        "\n",
        "Большинство методов численного интегрирования построены на идее о том, что определенный интеграл некоторой величины равен площади фигуры, ограниченной снизу осью абсцисс (осью *x*), слева и справа - пределами интегрирования, а сверху - графиком функции.\n",
        "\n",
        "Например, площадь синей фигуры на рисунке внизу соответствует формуле\n",
        "\n",
        "$$\n",
        "S = \\int_{2}^{4} \\sqrt x dx\n",
        "$$"
      ]
    },
    {
      "cell_type": "code",
      "metadata": {
        "id": "mhxR-ZknZkNt",
        "colab_type": "code",
        "colab": {
          "base_uri": "https://localhost:8080/",
          "height": 265
        },
        "outputId": "b8a5abd3-2d1b-43e1-d77e-bd23a1959a56"
      },
      "source": [
        "import numpy as np\n",
        "import matplotlib.pyplot as plt\n",
        "%matplotlib inline\n",
        "\n",
        "xs = np.linspace(2, 4, endpoint=True)\n",
        "ys = np.power(xs, 0.5)\n",
        "\n",
        "fig = plt.figure()\n",
        "plt.fill_between(xs, ys)\n",
        "plt.show()"
      ],
      "execution_count": 6,
      "outputs": [
        {
          "output_type": "display_data",
          "data": {
            "image/png": "[encoded data removed]",
            "text/plain": [
              "<Figure size 432x288 with 1 Axes>"
            ]
          },
          "metadata": {
            "tags": []
          }
        }
      ]
    },
    {
      "cell_type": "markdown",
      "metadata": {
        "id": "opyR_Z5n6iiZ",
        "colab_type": "text"
      },
      "source": [
        "Большинство методов численного интегрирования основаны на замене интеграла суммой:\n",
        "\n",
        "$$\n",
        "\\int_{x_l}^{x_r} f(x)dx \\approx \\sum_{i} c(x_i) \\cdot f(x_i)\n",
        "$$\n",
        "\n",
        "где $c(x_i)$ - некоторый коэффициент (возможно, имеющий собственное в каждой точке $x_i$). \n",
        "\n",
        "Весь интервал, на котором производится интегрирование, разбивается на отдельные равные отрезки $(x_i, x_{i+1}), i=0..n, h=x_{i+1}-x_i$. Интеграл целиком будет равен сумме интегралов всех отрезков. \n",
        "\n",
        "Способы вычисления коэффициента $c$ определяют суть каждого метода численного интегрирования.\n",
        "\n",
        "Ознакомиться с основами численного интегрирования можно в [соответствующей статье википедии](https://ru.wikipedia.org/wiki/%D0%A7%D0%B8%D1%81%D0%BB%D0%B5%D0%BD%D0%BD%D0%BE%D0%B5_%D0%B8%D0%BD%D1%82%D0%B5%D0%B3%D1%80%D0%B8%D1%80%D0%BE%D0%B2%D0%B0%D0%BD%D0%B8%D0%B5).\n",
        "\n",
        "Кроме того, на [Хабре](https://habr.com/ru) имеется отличный [материал по численному интегрированию](https://habr.com/ru/post/420867/) с примерами реализации на языке *Python*.\n",
        "\n",
        "Сами методы численного интегрирования иногда называют квадратурными формулами."
      ]
    },
    {
      "cell_type": "markdown",
      "metadata": {
        "id": "Z31JIU7e8UbO",
        "colab_type": "text"
      },
      "source": [
        "## Формула прямоугольников\n",
        "\n",
        "Одним из простейших методов численного интегрирования является так называемая формула прямоугольников.\n",
        "\n",
        "Суть метода заключается в вычислении значения функции $f$ в середине отрезка $(x_i, x_{i+1})$, $f(x_i+h/2)$.\n",
        "\n",
        "Приближено считается, что площадь фигуры, ограниченной снизу осью абсцисс, сверху значением функции $f$ в точке $x=x_i+h/2$, $f(x_i+h/2)$, слева значением $x_i$, а справа - значением $x_{i+1}$, будет приближенно равна значению интеграла функции на этом отрезке,\n",
        "\n",
        "$$\n",
        "\\int_{x_i}^{x_{i+1}}f(x) dx \\approx h \\cdot f(x_i+h/2)\n",
        "$$\n",
        "\n",
        "и значит, интеграл в целом\n",
        "\n",
        "$$\n",
        "\\int_{a}^{b}f(x) dx \\approx \\sum_0^n h \\cdot f(x_i + h/2)\n",
        "$$\n",
        "\n",
        "Для нахождения определенного интеграла при помощи формулы прямоугольников в экосистеме *Python* существует функция `scipy.integrate.quad(f, a, b)`, которой передаются три параметра, `f` - функция, которую необходимо проинтегрировать (задается в виде функции от одного аргумента, возвращающей единственое значение), `a` и `b` - соответственно, левый и правый пределы интегрирования. В обычных условиях функция возвращает два значения: собственно вычисленное значение интеграла, и ожидаемая абсолютная ошибка.\n",
        "\n",
        "Рассмотрим интегрирование функции $f_0(x)=x$. Очевидно, это производная функции $f_1(x)=\\frac {x^2} {2}$, так что мы сможем сравнить численное решение с аналитическим:"
      ]
    },
    {
      "cell_type": "code",
      "metadata": {
        "id": "Q0OYjIOsFtL1",
        "colab_type": "code",
        "colab": {
          "base_uri": "https://localhost:8080/",
          "height": 53
        },
        "outputId": "ce25a1f2-e3ed-4f57-b496-8dbe4d712c36"
      },
      "source": [
        "import scipy.integrate as intgt\n",
        "\n",
        "a = 0\n",
        "b = 2\n",
        "\n",
        "def f0(x):\n",
        "  return x\n",
        "\n",
        "def f1(x):\n",
        "  return x**2/2.0\n",
        "\n",
        "real_integral = f1(b) - f1(a)\n",
        "print(\"Аналитичесое значение: {}\".format(real_integral))\n",
        "\n",
        "calculated_integral, abs_error = intgt.quad(f0, a, b)\n",
        "print(\"Численное значение: {}, ожидаемая ошибка: {}\".format(calculated_integral, abs_error))"
      ],
      "execution_count": 17,
      "outputs": [
        {
          "output_type": "stream",
          "text": [
            "Аналитичесое значение: 2.0\n",
            "Численное значение: 2.0, ожидаемая ошибка: 2.220446049250313e-14\n"
          ],
          "name": "stdout"
        }
      ]
    },
    {
      "cell_type": "markdown",
      "metadata": {
        "id": "7_vZFMv3Jqtz",
        "colab_type": "text"
      },
      "source": [
        "Помимо нахождения интеграла функции, заданной в виде функции *Python*, имеются так же функции, использующие только значения функции (а не саму функцию) для нахождения интеграла.\n",
        "\n",
        "Примером такой интегрирующей функции является функция `numpy.trapz`. Эта функция принимает до 4 аргументов, однако в реальности необходимы один или два аргумента. Самым простым примером будет следующий.\n",
        "\n",
        "Для начала зададим точки $x_i$, и значения функции $f(x_i)$ в этих точках, которую хотим проинтегрировать:"
      ]
    },
    {
      "cell_type": "code",
      "metadata": {
        "id": "jX0RHBJaK7pC",
        "colab_type": "code",
        "colab": {
          "base_uri": "https://localhost:8080/",
          "height": 265
        },
        "outputId": "91ef2611-2427-4082-c558-e975cc4792c4"
      },
      "source": [
        "xs = np.linspace(a, b, num=50, endpoint=True) #  num задает количество точек на интервале, endpoint=True указывает, что конечная точка так же включается в интервал\n",
        "ys = np.array([f0(x) for x in xs])\n",
        "\n",
        "fig = plt.figure()\n",
        "plt.plot(xs, ys)\n",
        "plt.show()"
      ],
      "execution_count": 22,
      "outputs": [
        {
          "output_type": "display_data",
          "data": {
            "image/png": "[encoded data removed]",
            "text/plain": [
              "<Figure size 432x288 with 1 Axes>"
            ]
          },
          "metadata": {
            "tags": []
          }
        }
      ]
    },
    {
      "cell_type": "markdown",
      "metadata": {
        "id": "gla8W1R8Ld3i",
        "colab_type": "text"
      },
      "source": [
        "Найдем аналитическое значение интеграла:"
      ]
    },
    {
      "cell_type": "code",
      "metadata": {
        "id": "DmUwNlRcLjgs",
        "colab_type": "code",
        "colab": {
          "base_uri": "https://localhost:8080/",
          "height": 35
        },
        "outputId": "472fb032-744f-403f-f747-9628301b9542"
      },
      "source": [
        "real_integral_value = f1(xs[-1]) - f1(xs[0]) #  вычисляем разность f(xn) - f(x0)\n",
        "real_integral_value"
      ],
      "execution_count": 20,
      "outputs": [
        {
          "output_type": "execute_result",
          "data": {
            "text/plain": [
              "2.0"
            ]
          },
          "metadata": {
            "tags": []
          },
          "execution_count": 20
        }
      ]
    },
    {
      "cell_type": "markdown",
      "metadata": {
        "id": "16lI8KQYL3E3",
        "colab_type": "text"
      },
      "source": [
        "И найдем значение интеграла численным методом с использованием метода трапеций"
      ]
    },
    {
      "cell_type": "code",
      "metadata": {
        "id": "eA264K8aL_QQ",
        "colab_type": "code",
        "colab": {
          "base_uri": "https://localhost:8080/",
          "height": 35
        },
        "outputId": "c217f4f0-8fd4-4440-c191-b32431b07a66"
      },
      "source": [
        "calculated_integral_value = np.trapz(ys, xs)\n",
        "calculated_integral_value"
      ],
      "execution_count": 21,
      "outputs": [
        {
          "output_type": "execute_result",
          "data": {
            "text/plain": [
              "2.0"
            ]
          },
          "metadata": {
            "tags": []
          },
          "execution_count": 21
        }
      ]
    },
    {
      "cell_type": "markdown",
      "metadata": {
        "id": "sQScgf5eMM0A",
        "colab_type": "text"
      },
      "source": [
        "Как можно видеть, значение интеграла, вычисленное аналитически, и значение интеграла, вычисленное методом трапеций, в данном случае совпадают.\n",
        "\n",
        "Обратите внимание, функция `trapz` возвращает единственное значение, это вычисленное значение интеграла. Предполагаемая ошибка не вычисляется."
      ]
    },
    {
      "cell_type": "markdown",
      "metadata": {
        "id": "aEPHzg2SMqKi",
        "colab_type": "text"
      },
      "source": [
        "## Задание для самостоятельной работы\n",
        "\n",
        "Для перечисленных ниже функций на интервале от 0 до 1 найдите аналитические значения интегралов, значения интегралов, вычисленные с использованием функции `quad`, и значения интегралов, вычисленных с помощью метода трапеций. Для метода трапеций выполните интегрирование с различным количеством промежуточных точек: 5, 10, 50. Объясните различия между полученными данными.\n",
        "\n",
        "В формулах ниже подинтегральное выражение левой части - то, что необходимо проинтегрировать, правая часть - аналитическое решение, с которым необходимо сравнить полученный результат.\n",
        "\n",
        "$$\n",
        "\\int x dx = \\frac {x^2} {2}\n",
        "$$\n",
        "\n",
        "$$\n",
        "\\int \\frac {1} {4 \\cdot x^2 + 9} dx = 1/6 \\cdot arctg (\\frac {2} {3} \\cdot x)\n",
        "$$\n",
        "\n",
        "$$\n",
        "\\int (2 \\cdot x + 3)^2 dx = \\frac {(2 \\cdot x + 3)^3} {3}\n",
        "$$\n",
        "\n",
        "$$\n",
        "\\int sin(3 \\cdot x) \\cdot sin(2 \\cdot x) dx = \\frac {sin(x)} {2} - \\frac {sin(5 \\cdot x)} {10}\n",
        "$$"
      ]
    }
  ]
}