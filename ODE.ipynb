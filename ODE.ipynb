{
  "nbformat": 4,
  "nbformat_minor": 0,
  "metadata": {
    "colab": {
      "name": "ODE.ipynb",
      "provenance": []
    },
    "kernelspec": {
      "name": "python3",
      "display_name": "Python 3"
    }
  },
  "cells": [
    {
      "cell_type": "markdown",
      "metadata": {
        "id": "G24BJwF2-jAh",
        "colab_type": "text"
      },
      "source": [
        "# Решение систем дифференциальных уравнений\n",
        "\n",
        "В прошлой работе мы с вами расмотрели решение обыкновенного дифференциального уравнения первого порядка.\n",
        "\n",
        "По сути, ОДУ первого порядка описывают изменение одной величины с течением времени. \n",
        "\n",
        "К сожалению, в большинстве случаев при решении реальных задач ситуация выглядит сложнее: чаще всего имеются несколько связанных величин, меняющихся с течением времени (или вдоль какой-либо оси), влияющих друг на друга.\n",
        "\n",
        "Например, рассматривая модель распространения инфекции (гриппа или коронавируса) в обществе, мы имеем связанные величины: количество людей, которые еще не заболели (эпидемиологи называют таких людей восприимчивыми индивидами), количество инфицированных (то есть тех, кто заражен прямо сейчас), и количество переболевших.\n",
        "\n",
        "Эти величины связаны, постоянно влияют друг на друга и меняются с течением времени."
      ]
    },
    {
      "cell_type": "markdown",
      "metadata": {
        "id": "mtFwRPfeDSZO",
        "colab_type": "text"
      },
      "source": [
        "## Задача Коши\n",
        "\n",
        "Решение задач, описываемых системами обыкновенных дифференциальных уравнений с заданными начальными параметрами называется задачей Коши.\n",
        "\n",
        "Особенностью таких задач является, во-первых, описание изменения связанных величин в виде дифференциальных уравнений, и во-вторых, наличие заданных начальных значений величин.\n",
        "\n",
        "Возвращаясь к примеру с моделированием распространением вируса, задача Коши будет получена, если мы опишем взаимное влияние величин в виде системы обыкновенных дифференциальных уравнений, и знаем распределение числа еще не заболевших, инфицированных, и переболевших в начальный момент времени."
      ]
    },
    {
      "cell_type": "markdown",
      "metadata": {
        "id": "fdoh6E6-G-ks",
        "colab_type": "text"
      },
      "source": [
        "## Методы решения задачи Коши\n",
        "\n",
        "Существующие методы отличаются друг от друга достигаемой точностью и сложностью вычислений (естественно, чем выше требуемая точность, тем выше сложность вычислений).\n",
        "\n",
        "Идея, лежащая в основе большинства методов, достаточно проста.\n",
        "\n",
        "Допустим для простоты, что у нас имеется дифференциальное уранвение вида\n",
        "\n",
        "$$\n",
        "\\frac {dx} {dt} = \\frac {x} {2}\n",
        "$$\n",
        "и мы знаем значение значение в начальной точке $t_0=0$: $x(t_0)=x(0)=1$. \n",
        "\n",
        "Можно использовать следующий прием: поскольку дифференциальное уравнение первого порядка описывает *скорость* изменения величины, получается, в начальный момент времени мы знаем значение величины $x(0)=1$, и скорость ее изменения $\\frac {x} {2} = \\frac {1} {2}$, мы может вычислить значение величины через промежуток времени $\\Delta t$:\n",
        "\n",
        "$$\n",
        "x(t_0 + \\Delta t) = x(t_0) + \\Delta t \\cdot \\frac {dx} {dt}\n",
        "$$\n",
        "\n",
        "или, в нашем случае\n",
        "\n",
        "$$\n",
        "x(t_0 + \\Delta t) = x(t_0) + \\Delta t \\cdot \\frac {x(t_0)} {2}\n",
        "$$\n",
        "\n",
        "Очевидно, что точность такого метода будет падать с увеличением величины $\\Delta t$. Происходит это потому, что величина $x$ меняется с течением времени, а мы на интервале $\\Delta t$ это значение считаем неизменным. Кроме того, с увеличением времени $t$ будет накапливаться ошибка.\n",
        "\n",
        "Естестенно, данный метод не слишком точный (а увеличив величину $\\Delta t$, мы увеличим количество вычислений), и методы Рунге-Кутты как раз и призваны увеличить точность за счет расчета величины $\\frac {dx} {dt}$ в промежуточных точках (то есть, мы учитываем, что величина $\\frac {dx} {dt}$ меняется *внутри* интервала $\\Delta t$).\n",
        "\n",
        "Больше о комплексе методов Рунге-Кутты можно почитать в [учебнике Самарского и Гулина](http://samarskii.ru/books/book1989.pdf) и в [википедии](https://ru.wikipedia.org/wiki/%D0%9C%D0%B5%D1%82%D0%BE%D0%B4_%D0%A0%D1%83%D0%BD%D0%B3%D0%B5_%E2%80%94_%D0%9A%D1%83%D1%82%D1%82%D1%8B).\n"
      ]
    },
    {
      "cell_type": "markdown",
      "metadata": {
        "id": "Bq5d0uHxVEwx",
        "colab_type": "text"
      },
      "source": [
        "## Решение систем ОДУ первого порядка в SciPy\n",
        "\n",
        "Библиотека SciPy имеет встроенные функции для работы с задачей Коши, например, [odeint](https://docs.scipy.org/doc/scipy/reference/generated/scipy.integrate.odeint.html)\n",
        "\n",
        "Функция принимает 4 обязательных параметра:\n",
        "\n",
        "1. Функцию, для которой необходимо решить задачу Коши\n",
        "2. Начальное значение интегрируемого параметра\n",
        "3. Массив значений времени, для которых нам необходимо решение\n",
        "\n",
        "\n",
        "Рассмотрим пример."
      ]
    },
    {
      "cell_type": "markdown",
      "metadata": {
        "id": "cU6KHIwmWEap",
        "colab_type": "text"
      },
      "source": [
        "## Решение задачи маятника\n",
        "\n",
        "Разберем решение системы уравнений на примере маятника в среде с сопротивлением.\n",
        "\n",
        "Поведение маятника описывается системой уравнений\n",
        "\n",
        "$$\n",
        "\\frac {d \\phi} {dt} = \\omega (t) \\\\\n",
        "\\frac {d \\omega} {dt} = -b \\cdot \\omega (t) - c \\cdot sin(\\phi (t))\n",
        "$$\n",
        "\n",
        "где $\\phi$ - угол отклонения маятника, $\\omega$ - угловая скорость маятника, $b$ и $c$ - коэффициенты, описывающие среду, в которой колелется маятник.\n",
        "\n",
        "Решим задачу Коши, при условии $b=0.25$ и $c=5$, считая, что в начальными момент времени $t_0=0$ отклонение маятника составило $\\phi(t_0) = \\phi (0) = \\pi - 0.1$, а его угловая скорость была равна 0."
      ]
    },
    {
      "cell_type": "code",
      "metadata": {
        "id": "HNt7zkP_eser",
        "colab_type": "code",
        "colab": {
          "base_uri": "https://localhost:8080/",
          "height": 265
        },
        "outputId": "c6692ea5-2966-4a96-c60b-0548595c05e0"
      },
      "source": [
        "import numpy as np\n",
        "from scipy.integrate import odeint\n",
        "import matplotlib.pyplot as plt\n",
        "\n",
        "b = 0.25\n",
        "c = 5\n",
        "\n",
        "def equation(y, t):\n",
        "  phi, omega = y\n",
        "  deriv = [omega, \n",
        "           -b * omega - c * np.sin(phi)]\n",
        "  return deriv\n",
        "\n",
        "y0 = [np.pi - 0.1,\n",
        "      0]\n",
        "\n",
        "t = np.linspace(0, 30, num=100, endpoint=True)\n",
        "\n",
        "solution = odeint(equation, y0, t)\n",
        "\n",
        "phis = solution[:, 0]\n",
        "omegas = solution[:, 1]\n",
        "\n",
        "fig = plt.figure()\n",
        "plt.plot(t, phis, t, omegas)\n",
        "plt.show()"
      ],
      "execution_count": 12,
      "outputs": [
        {
          "output_type": "display_data",
          "data": {
            "image/png": "[encoded data removed]",
            "text/plain": [
              "<Figure size 432x288 with 1 Axes>"
            ]
          },
          "metadata": {
            "tags": []
          }
        }
      ]
    },
    {
      "cell_type": "markdown",
      "metadata": {
        "id": "ynt_u6nghmUH",
        "colab_type": "text"
      },
      "source": [
        "## Задание для самостоятельной работы\n",
        "\n",
        "Распространение инфекции в группе людей описывается [системой дифференциальных уравнений](http://books.ifmo.ru/file/pdf/2383.pdf), так же описана [здесь](https://nplus1.ru/material/2019/12/26/epidemic-math):\n",
        "\n",
        "$$\n",
        "\\frac {dS} {dt} = - \\beta \\cdot I(t) \\cdot S(t) \\\\\n",
        "\\frac {dI} {dt} = \\beta \\cdot I(t) \\cdot S(t) - \\gamma \\cdot I(t) \\\\\n",
        "\\frac {dR} {dt} = \\gamma \\cdot I(t) \\\\\n",
        "S(0) = S_0 \\\\\n",
        "I(0) = I_0 \\\\\n",
        "R(0) = R_0\n",
        "$$\n",
        "\n",
        "где $S(t)$ - количество еще не заболевших в момент времени $t$, $I(t)$ - число больных в момент времени $t$, $R(t)$ - число выздоровевших в момент времени $t$, $\\beta$ - интенсивность контактов с последующим заражением (то есть, сколько человек каждый инфицированный заразит за единицу времени), $\\gamma$ - скорость выздоровления (то есть, сколько человек выздоравливает за единицу времени).\n",
        "\n",
        "Вам необходимо:\n",
        "\n",
        "1. На основе открытых источников примерно выбрать значения параметров $\\beta$ и $\\gamma$\n",
        "2. Описать систему дифференциальных уравнений и решить ее на интервале 100 дней с точностью до одного дня, приняв количество заболевших в начальный момент времени равным 10, количество еще не заболевших - 1000000\n",
        "3. Построить графики количества здоровых, инфицированных и переболевших на интервале 100 дней\n",
        "4. Вычислить общее количество переболевших за период 100 дней (для этого необходимо использовать информацию и методы из предыдущей работы)\n"
      ]
    },
    {
      "cell_type": "code",
      "metadata": {
        "id": "DqeXuqCSmHWf",
        "colab_type": "code",
        "colab": {}
      },
      "source": [
        "import numpy as np\n",
        "from scipy.integrate import odeint\n",
        "import matplotlib.pyplot as plt\n",
        "\n",
        "beta = \n",
        "gamma = "
      ],
      "execution_count": 0,
      "outputs": []
    }
  ]
}